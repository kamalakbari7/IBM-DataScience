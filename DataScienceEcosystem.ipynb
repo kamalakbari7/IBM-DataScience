{
 "cells": [
  {
   "cell_type": "markdown",
   "id": "4105123f-9185-48a0-84e8-cc4ea30d271d",
   "metadata": {},
   "source": [
    "**Exercise 1: Create a Jupyter Notebook**"
   ]
  },
  {
   "cell_type": "markdown",
   "id": "e66eac33-b9dd-48d4-8ba5-1e8f95d42d96",
   "metadata": {},
   "source": []
  },
  {
   "cell_type": "markdown",
   "id": "161a3bea-3319-497f-a267-05723e5f267c",
   "metadata": {},
   "source": [
    "**Exercise 2: Create markdown cell with title of the notebook**"
   ]
  },
  {
   "cell_type": "markdown",
   "id": "4a1d0b48-f670-486c-b340-c76662c8d21c",
   "metadata": {},
   "source": [
    "# Data Science Tools and Ecosystem"
   ]
  },
  {
   "cell_type": "markdown",
   "id": "0fcead82-d5fa-4a96-b315-5c255de0b71c",
   "metadata": {},
   "source": []
  },
  {
   "cell_type": "markdown",
   "id": "7f036756-4d58-4e58-a225-ab11d9d6f8df",
   "metadata": {},
   "source": []
  },
  {
   "cell_type": "markdown",
   "id": "85a313c4-96bb-4b71-a67e-169176f7e281",
   "metadata": {},
   "source": [
    "**Exercise 3 - Create a markdown cell for an introduction**"
   ]
  },
  {
   "cell_type": "markdown",
   "id": "29b9bd86-c1bf-459e-b94e-4f99e7f4e141",
   "metadata": {
    "tags": []
   },
   "source": [
    "## Introduction"
   ]
  },
  {
   "cell_type": "markdown",
   "id": "cb8d32d5-630f-420f-ba6a-26e99a4e4c0c",
   "metadata": {},
   "source": [
    "`In this notebook, Data Science Tools and Ecosystem are summarized.`"
   ]
  },
  {
   "cell_type": "markdown",
   "id": "7a960116-058c-4086-b49d-940b67694577",
   "metadata": {},
   "source": [
    "**Objectives:** \n",
    "- List popular languages for Data Science\n",
    "- List open source development environments\n",
    "- Some of the commonly used libraries used by Data Scientists\n",
    "- Evaluating arithmetic expressions in Python"
   ]
  },
  {
   "cell_type": "markdown",
   "id": "b168c06f-4249-495b-a455-a4b8f59c3a0b",
   "metadata": {},
   "source": [
    "**Exercise 4 - Create a markdown cell to list data science languages**"
   ]
  },
  {
   "cell_type": "markdown",
   "id": "91e5f017-aef4-4738-b4f7-91ec48905899",
   "metadata": {},
   "source": []
  },
  {
   "cell_type": "markdown",
   "id": "1e911a4e-fe3a-411d-aa45-9e06b90b207f",
   "metadata": {},
   "source": [
    "Some of the popular languages that Data Scientists use are:\n",
    "\n",
    "1. Python\n",
    "2. R\n",
    "3. Scala\n",
    "4. Java\n",
    "5. JavaScript"
   ]
  },
  {
   "cell_type": "code",
   "execution_count": null,
   "id": "d737386c-8fb8-47e9-90a8-e0bab595ebe5",
   "metadata": {},
   "outputs": [],
   "source": []
  },
  {
   "cell_type": "markdown",
   "id": "7b16fca7-2763-426d-bd86-ee561d61e7cd",
   "metadata": {},
   "source": [
    "**Exercise 5 - Create a markdown cell to list data science libraries**"
   ]
  },
  {
   "cell_type": "markdown",
   "id": "0654a32e-caeb-4559-bf56-a9fe8af5730e",
   "metadata": {},
   "source": [
    "Some of the commonly used libraries used by Data Scientists include:\n",
    "\n",
    "1. Pandas\n",
    "2. Matplotlib\n",
    "3. scikit-learn"
   ]
  },
  {
   "cell_type": "code",
   "execution_count": null,
   "id": "96ec1eaf-aef7-47a6-8471-0153228367a1",
   "metadata": {},
   "outputs": [],
   "source": []
  },
  {
   "cell_type": "markdown",
   "id": "340507a8-9566-4f4f-af1c-7e1c0a165dc6",
   "metadata": {},
   "source": [
    "**Exercise 6 - Create a markdown cell with a table of Data Science tools**"
   ]
  },
  {
   "cell_type": "markdown",
   "id": "b3cebdf6-54cf-45d6-8bbb-5fe6b311bc2e",
   "metadata": {},
   "source": [
    "|Data Science Tools|\n",
    "|------------------|\n",
    "|Jupyter (Lab and Notebook)|\n",
    "|Rstudio|\n",
    "|Apache Zeppelin|\n",
    "|Spider|"
   ]
  },
  {
   "cell_type": "code",
   "execution_count": null,
   "id": "53367937-5b6b-4586-b7ad-df06703b34a8",
   "metadata": {},
   "outputs": [],
   "source": []
  },
  {
   "cell_type": "markdown",
   "id": "32ee096f-6c2b-483f-a6ba-75641179d22b",
   "metadata": {},
   "source": [
    "**Exercise 7 - Create a markdown cell introducing arithmetic expression examples**"
   ]
  },
  {
   "cell_type": "markdown",
   "id": "8db7d225-c7fb-422f-8490-cdf6ceeac333",
   "metadata": {},
   "source": [
    "### Below are a few examples of evaluating arithmetic expressions in Python"
   ]
  },
  {
   "cell_type": "code",
   "execution_count": 1,
   "id": "d1791e47-c14f-4f8d-a82e-b120110be430",
   "metadata": {},
   "outputs": [
    {
     "data": {
      "text/plain": [
       "5"
      ]
     },
     "execution_count": 1,
     "metadata": {},
     "output_type": "execute_result"
    }
   ],
   "source": [
    "2+3"
   ]
  },
  {
   "cell_type": "code",
   "execution_count": 2,
   "id": "b42db881-1a1c-4236-9ee7-e73d8f73488f",
   "metadata": {},
   "outputs": [
    {
     "data": {
      "text/plain": [
       "-2"
      ]
     },
     "execution_count": 2,
     "metadata": {},
     "output_type": "execute_result"
    }
   ],
   "source": [
    "8-10"
   ]
  },
  {
   "cell_type": "code",
   "execution_count": 3,
   "id": "02a2665a-7e63-4b2c-a801-ac127a39e74e",
   "metadata": {},
   "outputs": [
    {
     "data": {
      "text/plain": [
       "34140887670"
      ]
     },
     "execution_count": 3,
     "metadata": {},
     "output_type": "execute_result"
    }
   ],
   "source": [
    "98765*345678"
   ]
  },
  {
   "cell_type": "code",
   "execution_count": 4,
   "id": "6e0f53ad-689f-40d6-9d29-af59410f3fa4",
   "metadata": {},
   "outputs": [
    {
     "data": {
      "text/plain": [
       "1065.9518072289156"
      ]
     },
     "execution_count": 4,
     "metadata": {},
     "output_type": "execute_result"
    }
   ],
   "source": [
    "88474/83"
   ]
  },
  {
   "cell_type": "code",
   "execution_count": 5,
   "id": "e502dc98-d980-458b-b03a-e38da4327bcc",
   "metadata": {},
   "outputs": [
    {
     "data": {
      "text/plain": [
       "False"
      ]
     },
     "execution_count": 5,
     "metadata": {},
     "output_type": "execute_result"
    }
   ],
   "source": [
    "4<3"
   ]
  },
  {
   "cell_type": "code",
   "execution_count": null,
   "id": "4a1cdd91-99c2-477e-b249-bb3e10f29d92",
   "metadata": {},
   "outputs": [],
   "source": []
  },
  {
   "cell_type": "code",
   "execution_count": null,
   "id": "3f758644-f668-429c-9eaf-7654fe0c3f6a",
   "metadata": {},
   "outputs": [],
   "source": []
  },
  {
   "cell_type": "markdown",
   "id": "5dded90b-8555-4afd-8896-0b0a9637a920",
   "metadata": {},
   "source": [
    "**Exercise 8 - Create a code cell to multiply and add numbers**"
   ]
  },
  {
   "cell_type": "code",
   "execution_count": 6,
   "id": "4c63fed6-cb18-4a39-ba9d-7f9b3521e65d",
   "metadata": {},
   "outputs": [
    {
     "data": {
      "text/plain": [
       "17"
      ]
     },
     "execution_count": 6,
     "metadata": {},
     "output_type": "execute_result"
    }
   ],
   "source": [
    "# This a simple arithmetic expression to mutiply then add integers\n",
    "(3*4)+5"
   ]
  },
  {
   "cell_type": "markdown",
   "id": "55827475-40d8-45e3-b061-c418073a2e84",
   "metadata": {},
   "source": [
    "**Exercise 9 - Create a code cell to convert minutes to hours**"
   ]
  },
  {
   "cell_type": "code",
   "execution_count": 7,
   "id": "255f0c8f-3e71-497e-b037-230a3084a9f7",
   "metadata": {},
   "outputs": [
    {
     "data": {
      "text/plain": [
       "3.3333333333333335"
      ]
     },
     "execution_count": 7,
     "metadata": {},
     "output_type": "execute_result"
    }
   ],
   "source": [
    "#This will convert 200 minutes to hours by diving by 60\n",
    "200/60"
   ]
  },
  {
   "cell_type": "markdown",
   "id": "6b9ad8c5-773a-4e99-9442-22c0d1759a65",
   "metadata": {},
   "source": [
    "**Exercise 10 - Insert a markdown cell to list Objectives**"
   ]
  },
  {
   "cell_type": "markdown",
   "id": "dd9c99ef-dfd1-43f3-b8a3-f2faf551fde8",
   "metadata": {},
   "source": [
    "##### Introduction Section"
   ]
  },
  {
   "cell_type": "markdown",
   "id": "0e90a15c-5d29-4ba0-afa1-d7fa5add6f61",
   "metadata": {},
   "source": [
    "**Exercise 11 - Create a markdown cell to indicate the Author's name**"
   ]
  },
  {
   "cell_type": "markdown",
   "id": "cc3f86f1-7826-4522-b482-a2257eb87f77",
   "metadata": {},
   "source": [
    "## Author\n",
    "Kam"
   ]
  }
 ],
 "metadata": {
  "kernelspec": {
   "display_name": "Python 3 (ipykernel)",
   "language": "python",
   "name": "python3"
  },
  "language_info": {
   "codemirror_mode": {
    "name": "ipython",
    "version": 3
   },
   "file_extension": ".py",
   "mimetype": "text/x-python",
   "name": "python",
   "nbconvert_exporter": "python",
   "pygments_lexer": "ipython3",
   "version": "3.9.12"
  }
 },
 "nbformat": 4,
 "nbformat_minor": 5
}
